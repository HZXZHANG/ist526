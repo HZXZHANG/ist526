{
  "nbformat": 4,
  "nbformat_minor": 0,
  "metadata": {
    "colab": {
      "provenance": [],
      "authorship_tag": "ABX9TyMzdo8VFAFE4eydYN/DvYSE",
      "include_colab_link": true
    },
    "kernelspec": {
      "name": "python3",
      "display_name": "Python 3"
    },
    "language_info": {
      "name": "python"
    }
  },
  "cells": [
    {
      "cell_type": "markdown",
      "metadata": {
        "id": "view-in-github",
        "colab_type": "text"
      },
      "source": [
        "<a href=\"https://colab.research.google.com/github/HZXZHANG/ist526/blob/main/inclass_.ipynb\" target=\"_parent\"><img src=\"https://colab.research.google.com/assets/colab-badge.svg\" alt=\"Open In Colab\"/></a>"
      ]
    },
    {
      "cell_type": "code",
      "execution_count": null,
      "metadata": {
        "id": "EfiPk4EeL3i8"
      },
      "outputs": [],
      "source": [
        "from numpy import average\n",
        "from vega_datasets import data\n",
        "cars=data.cars()\n",
        "cars.head()\n",
        "graph1=alt.Chart(cars).mark_rule(color=\"red\").encode(\n",
        "    y= 'mean(Horsepower):Q',\n",
        "    #x='Miles_per_Gallon'\n",
        ")\n",
        "graph4=alt.Chart(cars).mark_rule(color=\"red\").encode(\n",
        "    x= 'mean(Miles_per_Gallon):Q',\n",
        "\n",
        ")\n",
        "\n",
        "\n",
        "graph2=alt.Chart(cars).mark_point(color='red').encode(\n",
        "    x='Miles_per_Gallon',\n",
        "    y='Horsepower',\n",
        ").interactive().transform_filter(alt.datum.Acceleration<12)\n",
        "\n",
        "\n",
        "\n",
        "graph3=alt.Chart(cars).mark_point().encode(\n",
        "    x='Miles_per_Gallon',\n",
        "    y='Horsepower',\n",
        "\n",
        ").interactive().transform_filter(alt.datum.Acceleration>=12)\n",
        "\n",
        "\n",
        "graph1+graph2+graph3+graph4"
      ]
    }
  ]
}