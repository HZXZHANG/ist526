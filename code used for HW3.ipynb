{
  "nbformat": 4,
  "nbformat_minor": 0,
  "metadata": {
    "colab": {
      "provenance": [],
      "toc_visible": true,
      "include_colab_link": true
    },
    "kernelspec": {
      "name": "ir",
      "display_name": "R"
    },
    "language_info": {
      "name": "R"
    }
  },
  "cells": [
    {
      "cell_type": "markdown",
      "metadata": {
        "id": "view-in-github",
        "colab_type": "text"
      },
      "source": [
        "<a href=\"https://colab.research.google.com/github/HZXZHANG/ist526/blob/main/code%20used%20for%20HW3.ipynb\" target=\"_parent\"><img src=\"https://colab.research.google.com/assets/colab-badge.svg\" alt=\"Open In Colab\"/></a>"
      ]
    },
    {
      "cell_type": "markdown",
      "source": [
        "# Help wanted!"
      ],
      "metadata": {
        "id": "3jgz86Y3kKPT"
      }
    },
    {
      "cell_type": "code",
      "execution_count": null,
      "metadata": {
        "id": "og3lpCx1B0pq"
      },
      "outputs": [],
      "source": [
        "help(solve)"
      ]
    },
    {
      "cell_type": "code",
      "source": [
        "?solve"
      ],
      "metadata": {
        "id": "GYtQuX4TDAWJ"
      },
      "execution_count": null,
      "outputs": []
    },
    {
      "cell_type": "markdown",
      "source": [
        "## Load data with drive"
      ],
      "metadata": {
        "id": "OguKhoXb73Ka"
      }
    },
    {
      "cell_type": "code",
      "source": [
        "# load data (click on the folder icon on the left, upload a data file under sample_data)\n",
        "# more operation: https://swcarpentry.github.io/r-novice-inflammation/11-supp-read-write-csv/\n",
        "# https://people.sc.fsu.edu/~jburkardt/data/csv/airtravel.csv\n",
        "data <- read.csv('/content/sample_data/data.csv')\n",
        "head(data)\n",
        "c1t1avg <- (data$X)\n",
        "c1t2avg <- (data$X.1)\n",
        "c2t1avg <- (data$X.2)\n",
        "c2t2avg <- (data$X.3)\n",
        "susavgc1 <- mean(data$score.C1)\n",
        "View(susavgc1)\n",
        "susavgc2 <- mean(data$score.C2)\n",
        "View(susavgc2)\n",
        "#t.test(c1t1avg, c1t2avg, paired = TRUE, var.equal = TRUE, conf.level=0.95)\n",
        "wilcox.test(c1t1avg, c2t1avg, paired = TRUE)\n",
        "wilcox.test(c1t2avg, c2t2avg, paired = TRUE)\n",
        "\n",
        "# /content/sample_data/airtravel.csv"
      ],
      "metadata": {
        "id": "xjc4gML7FpXI",
        "colab": {
          "base_uri": "https://localhost:8080/",
          "height": 529
        },
        "outputId": "5d70d492-56d2-493a-9785-89c6504a96c8"
      },
      "execution_count": null,
      "outputs": [
        {
          "output_type": "display_data",
          "data": {
            "text/html": [
              "<table class=\"dataframe\">\n",
              "<caption>A data.frame: 6 × 18</caption>\n",
              "<thead>\n",
              "\t<tr><th></th><th scope=col>ID</th><th scope=col>C1T1.Trial1</th><th scope=col>C1T1.trial2</th><th scope=col>X</th><th scope=col>C1T2.t1</th><th scope=col>C1T2.t2</th><th scope=col>X.1</th><th scope=col>C2T1.t1</th><th scope=col>C2T1.t2</th><th scope=col>X.2</th><th scope=col>C2T2.t1</th><th scope=col>C2T2.t2</th><th scope=col>X.3</th><th scope=col>score.C1</th><th scope=col>score.C2</th><th scope=col>TLX</th><th scope=col>C1</th><th scope=col>C2</th></tr>\n",
              "\t<tr><th></th><th scope=col>&lt;chr&gt;</th><th scope=col>&lt;dbl&gt;</th><th scope=col>&lt;dbl&gt;</th><th scope=col>&lt;dbl&gt;</th><th scope=col>&lt;dbl&gt;</th><th scope=col>&lt;dbl&gt;</th><th scope=col>&lt;dbl&gt;</th><th scope=col>&lt;dbl&gt;</th><th scope=col>&lt;dbl&gt;</th><th scope=col>&lt;dbl&gt;</th><th scope=col>&lt;dbl&gt;</th><th scope=col>&lt;dbl&gt;</th><th scope=col>&lt;dbl&gt;</th><th scope=col>&lt;dbl&gt;</th><th scope=col>&lt;dbl&gt;</th><th scope=col>&lt;lgl&gt;</th><th scope=col>&lt;dbl&gt;</th><th scope=col>&lt;dbl&gt;</th></tr>\n",
              "</thead>\n",
              "<tbody>\n",
              "\t<tr><th scope=row>1</th><td>1  </td><td> 8.93</td><td> 3.45</td><td> 6.190</td><td> 5.58</td><td> 4.36</td><td> 4.970</td><td> 4.01</td><td> 2.98</td><td> 3.495</td><td> 5.73</td><td> 7.01</td><td> 6.370</td><td>62.5</td><td>27.5</td><td>NA</td><td>48.30</td><td>79.200</td></tr>\n",
              "\t<tr><th scope=row>2</th><td>2  </td><td>13.44</td><td>11.61</td><td>12.525</td><td>31.55</td><td> 9.78</td><td>20.665</td><td> 5.63</td><td>23.31</td><td>13.660</td><td>22.68</td><td> 8.70</td><td>15.690</td><td>45.0</td><td>32.5</td><td>NA</td><td>53.67</td><td>69.000</td></tr>\n",
              "\t<tr><th scope=row>3</th><td>3  </td><td> 5.65</td><td> 3.08</td><td> 4.365</td><td> 2.59</td><td>11.95</td><td> 8.800</td><td>30.48</td><td> 4.41</td><td> 4.210</td><td> 8.08</td><td> 6.11</td><td>18.295</td><td>70.0</td><td>47.5</td><td>NA</td><td>35.33</td><td>55.300</td></tr>\n",
              "\t<tr><th scope=row>4</th><td>4  </td><td> 5.86</td><td> 2.35</td><td> 4.105</td><td>24.48</td><td> 4.56</td><td>14.520</td><td>19.58</td><td> 3.55</td><td> 3.780</td><td> 8.03</td><td> 7.66</td><td> 7.845</td><td>67.5</td><td>60.0</td><td>NA</td><td>23.33</td><td>58.000</td></tr>\n",
              "\t<tr><th scope=row>5</th><td>5  </td><td>25.36</td><td> 8.58</td><td>16.970</td><td> 6.53</td><td>12.36</td><td> 9.445</td><td> 4.78</td><td> 9.64</td><td> 6.825</td><td> 4.68</td><td>11.69</td><td> 8.185</td><td>85.0</td><td>87.5</td><td>NA</td><td>33.67</td><td>60.990</td></tr>\n",
              "\t<tr><th scope=row>6</th><td>AVG</td><td>   NA</td><td>   NA</td><td> 8.831</td><td>   NA</td><td>   NA</td><td>11.680</td><td>   NA</td><td>   NA</td><td> 6.394</td><td>   NA</td><td>   NA</td><td>11.277</td><td>66.0</td><td>51.0</td><td>NA</td><td>38.86</td><td>64.498</td></tr>\n",
              "</tbody>\n",
              "</table>\n"
            ],
            "text/markdown": "\nA data.frame: 6 × 18\n\n| <!--/--> | ID &lt;chr&gt; | C1T1.Trial1 &lt;dbl&gt; | C1T1.trial2 &lt;dbl&gt; | X &lt;dbl&gt; | C1T2.t1 &lt;dbl&gt; | C1T2.t2 &lt;dbl&gt; | X.1 &lt;dbl&gt; | C2T1.t1 &lt;dbl&gt; | C2T1.t2 &lt;dbl&gt; | X.2 &lt;dbl&gt; | C2T2.t1 &lt;dbl&gt; | C2T2.t2 &lt;dbl&gt; | X.3 &lt;dbl&gt; | score.C1 &lt;dbl&gt; | score.C2 &lt;dbl&gt; | TLX &lt;lgl&gt; | C1 &lt;dbl&gt; | C2 &lt;dbl&gt; |\n|---|---|---|---|---|---|---|---|---|---|---|---|---|---|---|---|---|---|---|\n| 1 | 1   |  8.93 |  3.45 |  6.190 |  5.58 |  4.36 |  4.970 |  4.01 |  2.98 |  3.495 |  5.73 |  7.01 |  6.370 | 62.5 | 27.5 | NA | 48.30 | 79.200 |\n| 2 | 2   | 13.44 | 11.61 | 12.525 | 31.55 |  9.78 | 20.665 |  5.63 | 23.31 | 13.660 | 22.68 |  8.70 | 15.690 | 45.0 | 32.5 | NA | 53.67 | 69.000 |\n| 3 | 3   |  5.65 |  3.08 |  4.365 |  2.59 | 11.95 |  8.800 | 30.48 |  4.41 |  4.210 |  8.08 |  6.11 | 18.295 | 70.0 | 47.5 | NA | 35.33 | 55.300 |\n| 4 | 4   |  5.86 |  2.35 |  4.105 | 24.48 |  4.56 | 14.520 | 19.58 |  3.55 |  3.780 |  8.03 |  7.66 |  7.845 | 67.5 | 60.0 | NA | 23.33 | 58.000 |\n| 5 | 5   | 25.36 |  8.58 | 16.970 |  6.53 | 12.36 |  9.445 |  4.78 |  9.64 |  6.825 |  4.68 | 11.69 |  8.185 | 85.0 | 87.5 | NA | 33.67 | 60.990 |\n| 6 | AVG |    NA |    NA |  8.831 |    NA |    NA | 11.680 |    NA |    NA |  6.394 |    NA |    NA | 11.277 | 66.0 | 51.0 | NA | 38.86 | 64.498 |\n\n",
            "text/latex": "A data.frame: 6 × 18\n\\begin{tabular}{r|llllllllllllllllll}\n  & ID & C1T1.Trial1 & C1T1.trial2 & X & C1T2.t1 & C1T2.t2 & X.1 & C2T1.t1 & C2T1.t2 & X.2 & C2T2.t1 & C2T2.t2 & X.3 & score.C1 & score.C2 & TLX & C1 & C2\\\\\n  & <chr> & <dbl> & <dbl> & <dbl> & <dbl> & <dbl> & <dbl> & <dbl> & <dbl> & <dbl> & <dbl> & <dbl> & <dbl> & <dbl> & <dbl> & <lgl> & <dbl> & <dbl>\\\\\n\\hline\n\t1 & 1   &  8.93 &  3.45 &  6.190 &  5.58 &  4.36 &  4.970 &  4.01 &  2.98 &  3.495 &  5.73 &  7.01 &  6.370 & 62.5 & 27.5 & NA & 48.30 & 79.200\\\\\n\t2 & 2   & 13.44 & 11.61 & 12.525 & 31.55 &  9.78 & 20.665 &  5.63 & 23.31 & 13.660 & 22.68 &  8.70 & 15.690 & 45.0 & 32.5 & NA & 53.67 & 69.000\\\\\n\t3 & 3   &  5.65 &  3.08 &  4.365 &  2.59 & 11.95 &  8.800 & 30.48 &  4.41 &  4.210 &  8.08 &  6.11 & 18.295 & 70.0 & 47.5 & NA & 35.33 & 55.300\\\\\n\t4 & 4   &  5.86 &  2.35 &  4.105 & 24.48 &  4.56 & 14.520 & 19.58 &  3.55 &  3.780 &  8.03 &  7.66 &  7.845 & 67.5 & 60.0 & NA & 23.33 & 58.000\\\\\n\t5 & 5   & 25.36 &  8.58 & 16.970 &  6.53 & 12.36 &  9.445 &  4.78 &  9.64 &  6.825 &  4.68 & 11.69 &  8.185 & 85.0 & 87.5 & NA & 33.67 & 60.990\\\\\n\t6 & AVG &    NA &    NA &  8.831 &    NA &    NA & 11.680 &    NA &    NA &  6.394 &    NA &    NA & 11.277 & 66.0 & 51.0 & NA & 38.86 & 64.498\\\\\n\\end{tabular}\n",
            "text/plain": [
              "  ID  C1T1.Trial1 C1T1.trial2 X      C1T2.t1 C1T2.t2 X.1    C2T1.t1 C2T1.t2\n",
              "1 1    8.93        3.45        6.190  5.58    4.36    4.970  4.01    2.98  \n",
              "2 2   13.44       11.61       12.525 31.55    9.78   20.665  5.63   23.31  \n",
              "3 3    5.65        3.08        4.365  2.59   11.95    8.800 30.48    4.41  \n",
              "4 4    5.86        2.35        4.105 24.48    4.56   14.520 19.58    3.55  \n",
              "5 5   25.36        8.58       16.970  6.53   12.36    9.445  4.78    9.64  \n",
              "6 AVG    NA          NA        8.831    NA      NA   11.680    NA      NA  \n",
              "  X.2    C2T2.t1 C2T2.t2 X.3    score.C1 score.C2 TLX C1    C2    \n",
              "1  3.495  5.73    7.01    6.370 62.5     27.5     NA  48.30 79.200\n",
              "2 13.660 22.68    8.70   15.690 45.0     32.5     NA  53.67 69.000\n",
              "3  4.210  8.08    6.11   18.295 70.0     47.5     NA  35.33 55.300\n",
              "4  3.780  8.03    7.66    7.845 67.5     60.0     NA  23.33 58.000\n",
              "5  6.825  4.68   11.69    8.185 85.0     87.5     NA  33.67 60.990\n",
              "6  6.394    NA      NA   11.277 66.0     51.0     NA  38.86 64.498"
            ]
          },
          "metadata": {}
        },
        {
          "output_type": "display_data",
          "data": {
            "text/plain": [
              "[1] 66"
            ],
            "text/html": [
              "66"
            ],
            "text/markdown": "66",
            "text/latex": "66"
          },
          "metadata": {}
        },
        {
          "output_type": "display_data",
          "data": {
            "text/plain": [
              "[1] 51"
            ],
            "text/html": [
              "51"
            ],
            "text/markdown": "51",
            "text/latex": "51"
          },
          "metadata": {}
        },
        {
          "output_type": "display_data",
          "data": {
            "text/plain": [
              "\n",
              "\tWilcoxon signed rank exact test\n",
              "\n",
              "data:  c1t1avg and c2t1avg\n",
              "V = 18, p-value = 0.1563\n",
              "alternative hypothesis: true location shift is not equal to 0\n"
            ]
          },
          "metadata": {}
        },
        {
          "output_type": "display_data",
          "data": {
            "text/plain": [
              "\n",
              "\tWilcoxon signed rank exact test\n",
              "\n",
              "data:  c1t2avg and c2t2avg\n",
              "V = 12, p-value = 0.8438\n",
              "alternative hypothesis: true location shift is not equal to 0\n"
            ]
          },
          "metadata": {}
        }
      ]
    },
    {
      "cell_type": "code",
      "source": [
        "shapiro.test(c1t1avg)\n",
        "shapiro.test(c1t2avg)\n",
        "shapiro.test(c2t1avg)\n",
        "shapiro.test(c2t2avg)"
      ],
      "metadata": {
        "colab": {
          "base_uri": "https://localhost:8080/",
          "height": 364
        },
        "id": "PRQx4fGdLRCf",
        "outputId": "557cf6a1-0ba5-4a63-b37f-349e85e7f865"
      },
      "execution_count": null,
      "outputs": [
        {
          "output_type": "display_data",
          "data": {
            "text/plain": [
              "\n",
              "\tShapiro-Wilk normality test\n",
              "\n",
              "data:  c1t1avg\n",
              "W = 0.90243, p-value = 0.3885\n"
            ]
          },
          "metadata": {}
        },
        {
          "output_type": "display_data",
          "data": {
            "text/plain": [
              "\n",
              "\tShapiro-Wilk normality test\n",
              "\n",
              "data:  c1t2avg\n",
              "W = 0.9617, p-value = 0.8328\n"
            ]
          },
          "metadata": {}
        },
        {
          "output_type": "display_data",
          "data": {
            "text/plain": [
              "\n",
              "\tShapiro-Wilk normality test\n",
              "\n",
              "data:  c2t1avg\n",
              "W = 0.7879, p-value = 0.04561\n"
            ]
          },
          "metadata": {}
        },
        {
          "output_type": "display_data",
          "data": {
            "text/plain": [
              "\n",
              "\tShapiro-Wilk normality test\n",
              "\n",
              "data:  c2t2avg\n",
              "W = 0.90123, p-value = 0.3812\n"
            ]
          },
          "metadata": {}
        }
      ]
    },
    {
      "cell_type": "code",
      "source": [
        "hist(c1t1avg,main=\"c1t1avg\")\n",
        "hist(c1t2avg,main=\"c1t2avg\")\n",
        "hist(c2t1avg,main=\"c2t1avg\")\n",
        "hist(c2t2avg,main=\"c2t2avg\")"
      ],
      "metadata": {
        "colab": {
          "base_uri": "https://localhost:8080/",
          "height": 1000
        },
        "id": "p9dmNDxYK8KQ",
        "outputId": "e82b7007-1cfa-491b-eb4d-4391ecf70a82"
      },
      "execution_count": null,
      "outputs": [
        {
          "output_type": "display_data",
          "data": {
            "text/plain": [
              "Plot with title “c1t1avg”"
            ],
            "image/png": "[encoded data removed]"
          },
          "metadata": {
            "image/png": {
              "width": 420,
              "height": 420
            }
          }
        },
        {
          "output_type": "display_data",
          "data": {
            "text/plain": [
              "Plot with title “c1t2avg”"
            ],
            "image/png": "[encoded data removed]"
          },
          "metadata": {
            "image/png": {
              "width": 420,
              "height": 420
            }
          }
        },
        {
          "output_type": "display_data",
          "data": {
            "text/plain": [
              "Plot with title “c2t1avg”"
            ],
            "image/png": "[encoded data removed]"
          },
          "metadata": {
            "image/png": {
              "width": 420,
              "height": 420
            }
          }
        },
        {
          "output_type": "display_data",
          "data": {
            "text/plain": [
              "Plot with title “c2t2avg”"
            ],
            "image/png": "[encoded data removed]"
          },
          "metadata": {
            "image/png": {
              "width": 420,
              "height": 420
            }
          }
        }
      ]
    }
  ]
}